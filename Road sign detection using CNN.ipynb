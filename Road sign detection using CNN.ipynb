{
 "cells": [
  {
   "cell_type": "code",
   "execution_count": 1,
   "id": "speaking-carnival",
   "metadata": {},
   "outputs": [],
   "source": [
    "import pandas as pd\n",
    "import numpy as np\n",
    "import matplotlib.pyplot as plt\n",
    "import os\n",
    "import cv2 as cv\n",
    "import glob"
   ]
  },
  {
   "cell_type": "markdown",
   "id": "acceptable-albania",
   "metadata": {},
   "source": [
    "## Detect the road signs and classify them into one of the four categories (prohibitory, mandatory,danger or other)."
   ]
  },
  {
   "cell_type": "markdown",
   "id": "romance-combat",
   "metadata": {},
   "source": [
    "Class id labels:\n",
    "\n",
    "0 = speed limit 20 (prohibitory)\n",
    "\n",
    "1 = speed limit 30 (prohibitory)\n",
    "\n",
    "2 = speed limit 50 (prohibitory)\n",
    "\n",
    "3 = speed limit 60 (prohibitory)\n",
    "\n",
    "4 = speed limit 70 (prohibitory)\n",
    "\n",
    "5 = speed limit 80 (prohibitory)\n",
    "\n",
    "6 = restriction ends 80 (other)\n",
    "\n",
    "7 = speed limit 100 (prohibitory)\n",
    "\n",
    "8 = speed limit 120 (prohibitory)\n",
    "\n",
    "9 = no overtaking (prohibitory)\n",
    "\n",
    "10 = no overtaking (trucks) (prohibitory)\n",
    "\n",
    "11 = priority at next intersection (danger)\n",
    "\n",
    "12 = priority road (other)\n",
    "\n",
    "13 = give way (other)\n",
    "\n",
    "14 = stop (other)\n",
    "\n",
    "15 = no traffic both ways (prohibitory)\n",
    "\n",
    "16 = no trucks (prohibitory)\n",
    "\n",
    "17 = no entry (other)\n",
    "\n",
    "18 = danger (danger)\n",
    "\n",
    "19 = bend left (danger)\n",
    "\n",
    "20 = bend right (danger)\n",
    "\n",
    "21 = bend (danger)\n",
    "\n",
    "22 = uneven road (danger)\n",
    "\n",
    "23 = slippery road (danger)\n",
    "\n",
    "24 = road narrows (danger)\n",
    "\n",
    "25 = construction (danger)\n",
    "\n",
    "26 = traffic signal (danger)\n",
    "\n",
    "27 = pedestrian crossing (danger)\n",
    "\n",
    "28 = school crossing (danger)\n",
    "\n",
    "29 = cycles crossing (danger)\n",
    "\n",
    "30 = snow (danger)\n",
    "\n",
    "31 = animals (danger)\n",
    "\n",
    "32 = restriction ends (other)\n",
    "\n",
    "33 = go right (mandatory)\n",
    "\n",
    "34 = go left (mandatory)\n",
    "\n",
    "35 = go straight (mandatory)\n",
    "\n",
    "36 = go right or straight (mandatory)\n",
    "\n",
    "37 = go left or straight (mandatory)\n",
    "\n",
    "38 = keep right (mandatory)\n",
    "\n",
    "39 = keep left (mandatory)\n",
    "\n",
    "40 = roundabout (mandatory)\n",
    "\n",
    "41 = restriction ends (overtaking) (other)\n",
    "\n",
    "42 = restriction ends (overtaking (trucks)) (other)"
   ]
  },
  {
   "cell_type": "markdown",
   "id": "acting-amsterdam",
   "metadata": {},
   "source": [
    "### Reading the data"
   ]
  },
  {
   "cell_type": "code",
   "execution_count": 15,
   "id": "compact-weather",
   "metadata": {},
   "outputs": [],
   "source": [
    "path=\"full_path/maindata\"\n",
    "df= pd.read_csv(os.path.join(path,'gt.txt'),names=['ImageID','XMin','YMin','XMax','YMax','ClassID'],sep=';')"
   ]
  },
  {
   "cell_type": "markdown",
   "id": "delayed-schema",
   "metadata": {},
   "source": [
    "### basic information about gt files content\n",
    "1=image name,\n",
    "(2-3)=(left-top) ROI,\n",
    "(4-5)=(right-bottom) ROI,\n",
    "id=in which class sign belongs"
   ]
  },
  {
   "cell_type": "code",
   "execution_count": 10,
   "id": "least-spring",
   "metadata": {},
   "outputs": [
    {
     "data": {
      "text/html": [
       "<div>\n",
       "<style scoped>\n",
       "    .dataframe tbody tr th:only-of-type {\n",
       "        vertical-align: middle;\n",
       "    }\n",
       "\n",
       "    .dataframe tbody tr th {\n",
       "        vertical-align: top;\n",
       "    }\n",
       "\n",
       "    .dataframe thead th {\n",
       "        text-align: right;\n",
       "    }\n",
       "</style>\n",
       "<table border=\"1\" class=\"dataframe\">\n",
       "  <thead>\n",
       "    <tr style=\"text-align: right;\">\n",
       "      <th></th>\n",
       "      <th>ImageID</th>\n",
       "      <th>XMin</th>\n",
       "      <th>YMin</th>\n",
       "      <th>XMax</th>\n",
       "      <th>YMax</th>\n",
       "      <th>ClassID</th>\n",
       "    </tr>\n",
       "  </thead>\n",
       "  <tbody>\n",
       "    <tr>\n",
       "      <th>0</th>\n",
       "      <td>00000.ppm</td>\n",
       "      <td>774</td>\n",
       "      <td>411</td>\n",
       "      <td>815</td>\n",
       "      <td>446</td>\n",
       "      <td>11</td>\n",
       "    </tr>\n",
       "    <tr>\n",
       "      <th>1</th>\n",
       "      <td>00001.ppm</td>\n",
       "      <td>983</td>\n",
       "      <td>388</td>\n",
       "      <td>1024</td>\n",
       "      <td>432</td>\n",
       "      <td>40</td>\n",
       "    </tr>\n",
       "    <tr>\n",
       "      <th>2</th>\n",
       "      <td>00001.ppm</td>\n",
       "      <td>386</td>\n",
       "      <td>494</td>\n",
       "      <td>442</td>\n",
       "      <td>552</td>\n",
       "      <td>38</td>\n",
       "    </tr>\n",
       "    <tr>\n",
       "      <th>3</th>\n",
       "      <td>00001.ppm</td>\n",
       "      <td>973</td>\n",
       "      <td>335</td>\n",
       "      <td>1031</td>\n",
       "      <td>390</td>\n",
       "      <td>13</td>\n",
       "    </tr>\n",
       "    <tr>\n",
       "      <th>4</th>\n",
       "      <td>00002.ppm</td>\n",
       "      <td>892</td>\n",
       "      <td>476</td>\n",
       "      <td>1006</td>\n",
       "      <td>592</td>\n",
       "      <td>39</td>\n",
       "    </tr>\n",
       "  </tbody>\n",
       "</table>\n",
       "</div>"
      ],
      "text/plain": [
       "     ImageID  XMin  YMin  XMax  YMax  ClassID\n",
       "0  00000.ppm   774   411   815   446       11\n",
       "1  00001.ppm   983   388  1024   432       40\n",
       "2  00001.ppm   386   494   442   552       38\n",
       "3  00001.ppm   973   335  1031   390       13\n",
       "4  00002.ppm   892   476  1006   592       39"
      ]
     },
     "execution_count": 10,
     "metadata": {},
     "output_type": "execute_result"
    }
   ],
   "source": [
    "df.head()"
   ]
  },
  {
   "cell_type": "markdown",
   "id": "serious-disabled",
   "metadata": {},
   "source": [
    "## Exploratory Data Analysis"
   ]
  },
  {
   "cell_type": "markdown",
   "id": "horizontal-seller",
   "metadata": {},
   "source": [
    "### 1.display sample image from dataset"
   ]
  },
  {
   "cell_type": "code",
   "execution_count": 16,
   "id": "solid-impossible",
   "metadata": {},
   "outputs": [],
   "source": [
    "img=cv.imread(\"full_path/maindata/00001.ppm\")"
   ]
  },
  {
   "cell_type": "code",
   "execution_count": 17,
   "id": "radio-costa",
   "metadata": {},
   "outputs": [
    {
     "data": {
      "image/png": "[encoded data removed]",
      "text/plain": [
       "<Figure size 432x288 with 1 Axes>"
      ]
     },
     "metadata": {
      "needs_background": "light"
     },
     "output_type": "display_data"
    }
   ],
   "source": [
    "#cv.imshow(\"img\",img)\n",
    "plt.imshow(img)\n",
    "cv.waitKey(0)\n",
    "cv.destroyAllWindows()"
   ]
  },
  {
   "cell_type": "code",
   "execution_count": 18,
   "id": "looking-landing",
   "metadata": {},
   "outputs": [
    {
     "name": "stdout",
     "output_type": "stream",
     "text": [
      "(800, 1360, 3)\n"
     ]
    }
   ],
   "source": [
    "print(img.shape)"
   ]
  },
  {
   "cell_type": "code",
   "execution_count": 20,
   "id": "outer-parameter",
   "metadata": {},
   "outputs": [],
   "source": [
    "# Checking shape of every image\n",
    "array=[]\n",
    "p=\"full_p/maindata\"\n",
    "for i in range(len(df)):\n",
    "    img = cv.imread(os.path.join(p,df['ImageID'][i]))\n",
    "    array.append(img.shape)"
   ]
  },
  {
   "cell_type": "code",
   "execution_count": 21,
   "id": "fresh-hungary",
   "metadata": {},
   "outputs": [
    {
     "name": "stdout",
     "output_type": "stream",
     "text": [
      "{(800, 1360, 3)}\n"
     ]
    }
   ],
   "source": [
    "# Every image is of same size\n",
    "imgsize=set(array)\n",
    "print(imgsize)"
   ]
  },
  {
   "cell_type": "code",
   "execution_count": 31,
   "id": "pretty-sitting",
   "metadata": {},
   "outputs": [
    {
     "data": {
      "text/plain": [
       "38    88\n",
       "12    85\n",
       "13    83\n",
       "2     81\n",
       "10    80\n",
       "1     79\n",
       "4     68\n",
       "8     57\n",
       "5     53\n",
       "7     41\n",
       "9     41\n",
       "11    38\n",
       "18    38\n",
       "14    32\n",
       "25    31\n",
       "3     30\n",
       "17    29\n",
       "35    20\n",
       "23    20\n",
       "6     19\n",
       "26    18\n",
       "33    16\n",
       "30    16\n",
       "15    15\n",
       "28    14\n",
       "22    13\n",
       "34    12\n",
       "42    11\n",
       "40    10\n",
       "20     9\n",
       "36     9\n",
       "32     8\n",
       "16     8\n",
       "41     7\n",
       "39     6\n",
       "21     5\n",
       "29     5\n",
       "24     5\n",
       "0      4\n",
       "27     3\n",
       "31     2\n",
       "37     2\n",
       "19     2\n",
       "Name: ClassID, dtype: int64"
      ]
     },
     "execution_count": 31,
     "metadata": {},
     "output_type": "execute_result"
    }
   ],
   "source": [
    "# finding count of each id\n",
    "x=df['ClassID'].value_counts()\n",
    "x"
   ]
  },
  {
   "cell_type": "code",
   "execution_count": 23,
   "id": "polished-regulation",
   "metadata": {},
   "outputs": [
    {
     "data": {
      "image/png": "[encoded data removed]",
      "text/plain": [
       "<Figure size 1440x720 with 1 Axes>"
      ]
     },
     "metadata": {
      "needs_background": "light"
     },
     "output_type": "display_data"
    }
   ],
   "source": [
    "x.plot(kind = 'bar',figsize = (20,10))\n",
    "plt.xlabel(\"Class ID\")\n",
    "plt.ylabel(\"Count of Class ID\")\n",
    "plt.title(\"Class ID vs Count\")\n",
    "plt.show()"
   ]
  },
  {
   "cell_type": "code",
   "execution_count": 24,
   "id": "isolated-linux",
   "metadata": {},
   "outputs": [],
   "source": [
    "# The count of id's 10,2,38,12,13,1 and 8 are high in number when compared to other sign id's.\n",
    "#The sign id's 37,31,19,24 and 27 are least in number."
   ]
  },
  {
   "cell_type": "markdown",
   "id": "ready-grounds",
   "metadata": {},
   "source": [
    "## Defining lists for categories according to the classes ID's"
   ]
  },
  {
   "cell_type": "code",
   "execution_count": 25,
   "id": "nearby-novel",
   "metadata": {},
   "outputs": [],
   "source": [
    "# Prohibitory category:\n",
    "# circular Traffic Signs with white background and red border line\n",
    "prohibitory=[0,1,2,3,4,5,7,8,9,10,15,16]\n",
    "\n",
    "# Danger category:\n",
    "# triangular Traffic Signs with white background and red border line\n",
    "danger=[11,18,19,20,21,22,23,24,25,26,27,28,29,30,31]\n",
    "\n",
    "# Mandatory category:\n",
    "# circular Traffic Signs with blue background\n",
    "mandatory=[33,34,35,36,37,38,39,40]\n",
    "\n",
    "# Other category:\n",
    "other=[6,12,13,14,17,32,41,42]"
   ]
  },
  {
   "cell_type": "markdown",
   "id": "limited-notebook",
   "metadata": {},
   "source": [
    "####       YOLO: In YOLO labeling format, a .txt file with the same name is created for each image file in the same directory. \n",
    "####       Each .txt file contains the annotations for the corresponding image file, \n",
    "####       that is object class, object coordinates, width and height."
   ]
  },
  {
   "cell_type": "markdown",
   "id": "loose-fluid",
   "metadata": {},
   "source": [
    "## converting data into yolo format"
   ]
  },
  {
   "cell_type": "code",
   "execution_count": 26,
   "id": "prostate-mistress",
   "metadata": {},
   "outputs": [],
   "source": [
    "## yolo stores the data into format(center(x),center(y),width,height)\n",
    "# Adding new empty columns to dataFrame to save numbers for YOLO format\n",
    "df['CategoryID']=''\n",
    "df['center x']=''\n",
    "df['center y']=''\n",
    "df['width']=''\n",
    "df['height']=''"
   ]
  },
  {
   "cell_type": "code",
   "execution_count": 66,
   "id": "sexual-rogers",
   "metadata": {},
   "outputs": [
    {
     "data": {
      "text/html": [
       "<div>\n",
       "<style scoped>\n",
       "    .dataframe tbody tr th:only-of-type {\n",
       "        vertical-align: middle;\n",
       "    }\n",
       "\n",
       "    .dataframe tbody tr th {\n",
       "        vertical-align: top;\n",
       "    }\n",
       "\n",
       "    .dataframe thead th {\n",
       "        text-align: right;\n",
       "    }\n",
       "</style>\n",
       "<table border=\"1\" class=\"dataframe\">\n",
       "  <thead>\n",
       "    <tr style=\"text-align: right;\">\n",
       "      <th></th>\n",
       "      <th>ImageID</th>\n",
       "      <th>XMin</th>\n",
       "      <th>YMin</th>\n",
       "      <th>XMax</th>\n",
       "      <th>YMax</th>\n",
       "      <th>ClassID</th>\n",
       "      <th>CategoryID</th>\n",
       "      <th>center x</th>\n",
       "      <th>center y</th>\n",
       "      <th>width</th>\n",
       "      <th>height</th>\n",
       "    </tr>\n",
       "  </thead>\n",
       "  <tbody>\n",
       "    <tr>\n",
       "      <th>0</th>\n",
       "      <td>00000.ppm</td>\n",
       "      <td>774</td>\n",
       "      <td>411</td>\n",
       "      <td>815</td>\n",
       "      <td>446</td>\n",
       "      <td>11</td>\n",
       "      <td></td>\n",
       "      <td></td>\n",
       "      <td></td>\n",
       "      <td></td>\n",
       "      <td></td>\n",
       "    </tr>\n",
       "    <tr>\n",
       "      <th>1</th>\n",
       "      <td>00001.ppm</td>\n",
       "      <td>983</td>\n",
       "      <td>388</td>\n",
       "      <td>1024</td>\n",
       "      <td>432</td>\n",
       "      <td>40</td>\n",
       "      <td></td>\n",
       "      <td></td>\n",
       "      <td></td>\n",
       "      <td></td>\n",
       "      <td></td>\n",
       "    </tr>\n",
       "    <tr>\n",
       "      <th>2</th>\n",
       "      <td>00001.ppm</td>\n",
       "      <td>386</td>\n",
       "      <td>494</td>\n",
       "      <td>442</td>\n",
       "      <td>552</td>\n",
       "      <td>38</td>\n",
       "      <td></td>\n",
       "      <td></td>\n",
       "      <td></td>\n",
       "      <td></td>\n",
       "      <td></td>\n",
       "    </tr>\n",
       "    <tr>\n",
       "      <th>3</th>\n",
       "      <td>00001.ppm</td>\n",
       "      <td>973</td>\n",
       "      <td>335</td>\n",
       "      <td>1031</td>\n",
       "      <td>390</td>\n",
       "      <td>13</td>\n",
       "      <td></td>\n",
       "      <td></td>\n",
       "      <td></td>\n",
       "      <td></td>\n",
       "      <td></td>\n",
       "    </tr>\n",
       "    <tr>\n",
       "      <th>4</th>\n",
       "      <td>00002.ppm</td>\n",
       "      <td>892</td>\n",
       "      <td>476</td>\n",
       "      <td>1006</td>\n",
       "      <td>592</td>\n",
       "      <td>39</td>\n",
       "      <td></td>\n",
       "      <td></td>\n",
       "      <td></td>\n",
       "      <td></td>\n",
       "      <td></td>\n",
       "    </tr>\n",
       "  </tbody>\n",
       "</table>\n",
       "</div>"
      ],
      "text/plain": [
       "     ImageID  XMin  YMin  XMax  YMax  ClassID CategoryID center x center y  \\\n",
       "0  00000.ppm   774   411   815   446       11                                \n",
       "1  00001.ppm   983   388  1024   432       40                                \n",
       "2  00001.ppm   386   494   442   552       38                                \n",
       "3  00001.ppm   973   335  1031   390       13                                \n",
       "4  00002.ppm   892   476  1006   592       39                                \n",
       "\n",
       "  width height  \n",
       "0               \n",
       "1               \n",
       "2               \n",
       "3               \n",
       "4               "
      ]
     },
     "execution_count": 66,
     "metadata": {},
     "output_type": "execute_result"
    }
   ],
   "source": [
    "df.head()"
   ]
  },
  {
   "cell_type": "code",
   "execution_count": 27,
   "id": "southern-grocery",
   "metadata": {},
   "outputs": [],
   "source": [
    "# Getting category's ID according to the class's ID\n",
    "df.loc[df['ClassID'].isin(prohibitory),'CategoryID']=0\n",
    "df.loc[df['ClassID'].isin(danger),'CategoryID']=1\n",
    "df.loc[df['ClassID'].isin(mandatory),'CategoryID']=2\n",
    "df.loc[df['ClassID'].isin(other),'CategoryID']=3"
   ]
  },
  {
   "cell_type": "code",
   "execution_count": 28,
   "id": "dependent-paragraph",
   "metadata": {},
   "outputs": [
    {
     "data": {
      "text/html": [
       "<div>\n",
       "<style scoped>\n",
       "    .dataframe tbody tr th:only-of-type {\n",
       "        vertical-align: middle;\n",
       "    }\n",
       "\n",
       "    .dataframe tbody tr th {\n",
       "        vertical-align: top;\n",
       "    }\n",
       "\n",
       "    .dataframe thead th {\n",
       "        text-align: right;\n",
       "    }\n",
       "</style>\n",
       "<table border=\"1\" class=\"dataframe\">\n",
       "  <thead>\n",
       "    <tr style=\"text-align: right;\">\n",
       "      <th></th>\n",
       "      <th>ImageID</th>\n",
       "      <th>XMin</th>\n",
       "      <th>YMin</th>\n",
       "      <th>XMax</th>\n",
       "      <th>YMax</th>\n",
       "      <th>ClassID</th>\n",
       "      <th>CategoryID</th>\n",
       "      <th>center x</th>\n",
       "      <th>center y</th>\n",
       "      <th>width</th>\n",
       "      <th>height</th>\n",
       "    </tr>\n",
       "  </thead>\n",
       "  <tbody>\n",
       "    <tr>\n",
       "      <th>0</th>\n",
       "      <td>00000.ppm</td>\n",
       "      <td>774</td>\n",
       "      <td>411</td>\n",
       "      <td>815</td>\n",
       "      <td>446</td>\n",
       "      <td>11</td>\n",
       "      <td>1</td>\n",
       "      <td></td>\n",
       "      <td></td>\n",
       "      <td></td>\n",
       "      <td></td>\n",
       "    </tr>\n",
       "    <tr>\n",
       "      <th>1</th>\n",
       "      <td>00001.ppm</td>\n",
       "      <td>983</td>\n",
       "      <td>388</td>\n",
       "      <td>1024</td>\n",
       "      <td>432</td>\n",
       "      <td>40</td>\n",
       "      <td>2</td>\n",
       "      <td></td>\n",
       "      <td></td>\n",
       "      <td></td>\n",
       "      <td></td>\n",
       "    </tr>\n",
       "    <tr>\n",
       "      <th>2</th>\n",
       "      <td>00001.ppm</td>\n",
       "      <td>386</td>\n",
       "      <td>494</td>\n",
       "      <td>442</td>\n",
       "      <td>552</td>\n",
       "      <td>38</td>\n",
       "      <td>2</td>\n",
       "      <td></td>\n",
       "      <td></td>\n",
       "      <td></td>\n",
       "      <td></td>\n",
       "    </tr>\n",
       "    <tr>\n",
       "      <th>3</th>\n",
       "      <td>00001.ppm</td>\n",
       "      <td>973</td>\n",
       "      <td>335</td>\n",
       "      <td>1031</td>\n",
       "      <td>390</td>\n",
       "      <td>13</td>\n",
       "      <td>3</td>\n",
       "      <td></td>\n",
       "      <td></td>\n",
       "      <td></td>\n",
       "      <td></td>\n",
       "    </tr>\n",
       "    <tr>\n",
       "      <th>4</th>\n",
       "      <td>00002.ppm</td>\n",
       "      <td>892</td>\n",
       "      <td>476</td>\n",
       "      <td>1006</td>\n",
       "      <td>592</td>\n",
       "      <td>39</td>\n",
       "      <td>2</td>\n",
       "      <td></td>\n",
       "      <td></td>\n",
       "      <td></td>\n",
       "      <td></td>\n",
       "    </tr>\n",
       "  </tbody>\n",
       "</table>\n",
       "</div>"
      ],
      "text/plain": [
       "     ImageID  XMin  YMin  XMax  YMax  ClassID CategoryID center x center y  \\\n",
       "0  00000.ppm   774   411   815   446       11          1                     \n",
       "1  00001.ppm   983   388  1024   432       40          2                     \n",
       "2  00001.ppm   386   494   442   552       38          2                     \n",
       "3  00001.ppm   973   335  1031   390       13          3                     \n",
       "4  00002.ppm   892   476  1006   592       39          2                     \n",
       "\n",
       "  width height  \n",
       "0               \n",
       "1               \n",
       "2               \n",
       "3               \n",
       "4               "
      ]
     },
     "execution_count": 28,
     "metadata": {},
     "output_type": "execute_result"
    }
   ],
   "source": [
    "df.head()"
   ]
  },
  {
   "cell_type": "code",
   "execution_count": 29,
   "id": "shaped-utilization",
   "metadata": {},
   "outputs": [
    {
     "data": {
      "text/plain": [
       "0    557\n",
       "3    274\n",
       "1    219\n",
       "2    163\n",
       "Name: CategoryID, dtype: int64"
      ]
     },
     "execution_count": 29,
     "metadata": {},
     "output_type": "execute_result"
    }
   ],
   "source": [
    "y=df['CategoryID'].value_counts()\n",
    "y"
   ]
  },
  {
   "cell_type": "code",
   "execution_count": 56,
   "id": "educational-modeling",
   "metadata": {},
   "outputs": [
    {
     "data": {
      "image/png": "[encoded data removed]",
      "text/plain": [
       "<Figure size 1440x720 with 1 Axes>"
      ]
     },
     "metadata": {
      "needs_background": "light"
     },
     "output_type": "display_data"
    }
   ],
   "source": [
    "y.plot(kind = 'bar',figsize = (20,10))\n",
    "plt.xlabel(\"CategoryID\")\n",
    "plt.ylabel(\"Count of CategoryID\")\n",
    "plt.title(\"CategoryID vs Count\")\n",
    "plt.show()"
   ]
  },
  {
   "cell_type": "code",
   "execution_count": 57,
   "id": "sunrise-damage",
   "metadata": {},
   "outputs": [],
   "source": [
    "# Calculating bounding box's center in x and y for all rows and saving the result in center colums\n",
    "# Here center coordinates width and height data is not normalized\n",
    "df['center x']=(df['XMax']+df['XMin'])/2\n",
    "df['center y']=(df['YMax']+df['YMin'])/2"
   ]
  },
  {
   "cell_type": "code",
   "execution_count": 58,
   "id": "bibliographic-liquid",
   "metadata": {},
   "outputs": [
    {
     "data": {
      "text/html": [
       "<div>\n",
       "<style scoped>\n",
       "    .dataframe tbody tr th:only-of-type {\n",
       "        vertical-align: middle;\n",
       "    }\n",
       "\n",
       "    .dataframe tbody tr th {\n",
       "        vertical-align: top;\n",
       "    }\n",
       "\n",
       "    .dataframe thead th {\n",
       "        text-align: right;\n",
       "    }\n",
       "</style>\n",
       "<table border=\"1\" class=\"dataframe\">\n",
       "  <thead>\n",
       "    <tr style=\"text-align: right;\">\n",
       "      <th></th>\n",
       "      <th>ImageID</th>\n",
       "      <th>XMin</th>\n",
       "      <th>YMin</th>\n",
       "      <th>XMax</th>\n",
       "      <th>YMax</th>\n",
       "      <th>ClassID</th>\n",
       "      <th>CategoryID</th>\n",
       "      <th>center x</th>\n",
       "      <th>center y</th>\n",
       "      <th>width</th>\n",
       "      <th>height</th>\n",
       "    </tr>\n",
       "  </thead>\n",
       "  <tbody>\n",
       "    <tr>\n",
       "      <th>0</th>\n",
       "      <td>00000.ppm</td>\n",
       "      <td>774</td>\n",
       "      <td>411</td>\n",
       "      <td>815</td>\n",
       "      <td>446</td>\n",
       "      <td>11</td>\n",
       "      <td>1</td>\n",
       "      <td>794.5</td>\n",
       "      <td>428.5</td>\n",
       "      <td></td>\n",
       "      <td></td>\n",
       "    </tr>\n",
       "    <tr>\n",
       "      <th>1</th>\n",
       "      <td>00001.ppm</td>\n",
       "      <td>983</td>\n",
       "      <td>388</td>\n",
       "      <td>1024</td>\n",
       "      <td>432</td>\n",
       "      <td>40</td>\n",
       "      <td>2</td>\n",
       "      <td>1003.5</td>\n",
       "      <td>410.0</td>\n",
       "      <td></td>\n",
       "      <td></td>\n",
       "    </tr>\n",
       "    <tr>\n",
       "      <th>2</th>\n",
       "      <td>00001.ppm</td>\n",
       "      <td>386</td>\n",
       "      <td>494</td>\n",
       "      <td>442</td>\n",
       "      <td>552</td>\n",
       "      <td>38</td>\n",
       "      <td>2</td>\n",
       "      <td>414.0</td>\n",
       "      <td>523.0</td>\n",
       "      <td></td>\n",
       "      <td></td>\n",
       "    </tr>\n",
       "    <tr>\n",
       "      <th>3</th>\n",
       "      <td>00001.ppm</td>\n",
       "      <td>973</td>\n",
       "      <td>335</td>\n",
       "      <td>1031</td>\n",
       "      <td>390</td>\n",
       "      <td>13</td>\n",
       "      <td>3</td>\n",
       "      <td>1002.0</td>\n",
       "      <td>362.5</td>\n",
       "      <td></td>\n",
       "      <td></td>\n",
       "    </tr>\n",
       "    <tr>\n",
       "      <th>4</th>\n",
       "      <td>00002.ppm</td>\n",
       "      <td>892</td>\n",
       "      <td>476</td>\n",
       "      <td>1006</td>\n",
       "      <td>592</td>\n",
       "      <td>39</td>\n",
       "      <td>2</td>\n",
       "      <td>949.0</td>\n",
       "      <td>534.0</td>\n",
       "      <td></td>\n",
       "      <td></td>\n",
       "    </tr>\n",
       "  </tbody>\n",
       "</table>\n",
       "</div>"
      ],
      "text/plain": [
       "     ImageID  XMin  YMin  XMax  YMax  ClassID CategoryID  center x  center y  \\\n",
       "0  00000.ppm   774   411   815   446       11          1     794.5     428.5   \n",
       "1  00001.ppm   983   388  1024   432       40          2    1003.5     410.0   \n",
       "2  00001.ppm   386   494   442   552       38          2     414.0     523.0   \n",
       "3  00001.ppm   973   335  1031   390       13          3    1002.0     362.5   \n",
       "4  00002.ppm   892   476  1006   592       39          2     949.0     534.0   \n",
       "\n",
       "  width height  \n",
       "0               \n",
       "1               \n",
       "2               \n",
       "3               \n",
       "4               "
      ]
     },
     "execution_count": 58,
     "metadata": {},
     "output_type": "execute_result"
    }
   ],
   "source": [
    "df.head()"
   ]
  },
  {
   "cell_type": "code",
   "execution_count": 59,
   "id": "interpreted-glass",
   "metadata": {},
   "outputs": [],
   "source": [
    "# Calculating bounding box's width and height for all rows Saving results to width and height columns\n",
    "df['width']=df['XMax']-df['XMin']\n",
    "df['height']=df['YMax']-df['YMin']"
   ]
  },
  {
   "cell_type": "code",
   "execution_count": 60,
   "id": "collectible-citizen",
   "metadata": {},
   "outputs": [
    {
     "data": {
      "text/html": [
       "<div>\n",
       "<style scoped>\n",
       "    .dataframe tbody tr th:only-of-type {\n",
       "        vertical-align: middle;\n",
       "    }\n",
       "\n",
       "    .dataframe tbody tr th {\n",
       "        vertical-align: top;\n",
       "    }\n",
       "\n",
       "    .dataframe thead th {\n",
       "        text-align: right;\n",
       "    }\n",
       "</style>\n",
       "<table border=\"1\" class=\"dataframe\">\n",
       "  <thead>\n",
       "    <tr style=\"text-align: right;\">\n",
       "      <th></th>\n",
       "      <th>ImageID</th>\n",
       "      <th>XMin</th>\n",
       "      <th>YMin</th>\n",
       "      <th>XMax</th>\n",
       "      <th>YMax</th>\n",
       "      <th>ClassID</th>\n",
       "      <th>CategoryID</th>\n",
       "      <th>center x</th>\n",
       "      <th>center y</th>\n",
       "      <th>width</th>\n",
       "      <th>height</th>\n",
       "    </tr>\n",
       "  </thead>\n",
       "  <tbody>\n",
       "    <tr>\n",
       "      <th>0</th>\n",
       "      <td>00000.ppm</td>\n",
       "      <td>774</td>\n",
       "      <td>411</td>\n",
       "      <td>815</td>\n",
       "      <td>446</td>\n",
       "      <td>11</td>\n",
       "      <td>1</td>\n",
       "      <td>794.5</td>\n",
       "      <td>428.5</td>\n",
       "      <td>41</td>\n",
       "      <td>35</td>\n",
       "    </tr>\n",
       "    <tr>\n",
       "      <th>1</th>\n",
       "      <td>00001.ppm</td>\n",
       "      <td>983</td>\n",
       "      <td>388</td>\n",
       "      <td>1024</td>\n",
       "      <td>432</td>\n",
       "      <td>40</td>\n",
       "      <td>2</td>\n",
       "      <td>1003.5</td>\n",
       "      <td>410.0</td>\n",
       "      <td>41</td>\n",
       "      <td>44</td>\n",
       "    </tr>\n",
       "    <tr>\n",
       "      <th>2</th>\n",
       "      <td>00001.ppm</td>\n",
       "      <td>386</td>\n",
       "      <td>494</td>\n",
       "      <td>442</td>\n",
       "      <td>552</td>\n",
       "      <td>38</td>\n",
       "      <td>2</td>\n",
       "      <td>414.0</td>\n",
       "      <td>523.0</td>\n",
       "      <td>56</td>\n",
       "      <td>58</td>\n",
       "    </tr>\n",
       "    <tr>\n",
       "      <th>3</th>\n",
       "      <td>00001.ppm</td>\n",
       "      <td>973</td>\n",
       "      <td>335</td>\n",
       "      <td>1031</td>\n",
       "      <td>390</td>\n",
       "      <td>13</td>\n",
       "      <td>3</td>\n",
       "      <td>1002.0</td>\n",
       "      <td>362.5</td>\n",
       "      <td>58</td>\n",
       "      <td>55</td>\n",
       "    </tr>\n",
       "    <tr>\n",
       "      <th>4</th>\n",
       "      <td>00002.ppm</td>\n",
       "      <td>892</td>\n",
       "      <td>476</td>\n",
       "      <td>1006</td>\n",
       "      <td>592</td>\n",
       "      <td>39</td>\n",
       "      <td>2</td>\n",
       "      <td>949.0</td>\n",
       "      <td>534.0</td>\n",
       "      <td>114</td>\n",
       "      <td>116</td>\n",
       "    </tr>\n",
       "  </tbody>\n",
       "</table>\n",
       "</div>"
      ],
      "text/plain": [
       "     ImageID  XMin  YMin  XMax  YMax  ClassID CategoryID  center x  center y  \\\n",
       "0  00000.ppm   774   411   815   446       11          1     794.5     428.5   \n",
       "1  00001.ppm   983   388  1024   432       40          2    1003.5     410.0   \n",
       "2  00001.ppm   386   494   442   552       38          2     414.0     523.0   \n",
       "3  00001.ppm   973   335  1031   390       13          3    1002.0     362.5   \n",
       "4  00002.ppm   892   476  1006   592       39          2     949.0     534.0   \n",
       "\n",
       "   width  height  \n",
       "0     41      35  \n",
       "1     41      44  \n",
       "2     56      58  \n",
       "3     58      55  \n",
       "4    114     116  "
      ]
     },
     "execution_count": 60,
     "metadata": {},
     "output_type": "execute_result"
    }
   ],
   "source": [
    "df.head()"
   ]
  },
  {
   "cell_type": "code",
   "execution_count": 61,
   "id": "sufficient-grocery",
   "metadata": {},
   "outputs": [],
   "source": [
    "# creating the dataframe with required columns\n",
    "r= df.loc[:,['ImageID','CategoryID','center x','center y','width','height']].copy()"
   ]
  },
  {
   "cell_type": "code",
   "execution_count": 62,
   "id": "sapphire-amount",
   "metadata": {},
   "outputs": [
    {
     "data": {
      "text/html": [
       "<div>\n",
       "<style scoped>\n",
       "    .dataframe tbody tr th:only-of-type {\n",
       "        vertical-align: middle;\n",
       "    }\n",
       "\n",
       "    .dataframe tbody tr th {\n",
       "        vertical-align: top;\n",
       "    }\n",
       "\n",
       "    .dataframe thead th {\n",
       "        text-align: right;\n",
       "    }\n",
       "</style>\n",
       "<table border=\"1\" class=\"dataframe\">\n",
       "  <thead>\n",
       "    <tr style=\"text-align: right;\">\n",
       "      <th></th>\n",
       "      <th>ImageID</th>\n",
       "      <th>CategoryID</th>\n",
       "      <th>center x</th>\n",
       "      <th>center y</th>\n",
       "      <th>width</th>\n",
       "      <th>height</th>\n",
       "    </tr>\n",
       "  </thead>\n",
       "  <tbody>\n",
       "    <tr>\n",
       "      <th>0</th>\n",
       "      <td>00000.ppm</td>\n",
       "      <td>1</td>\n",
       "      <td>794.5</td>\n",
       "      <td>428.5</td>\n",
       "      <td>41</td>\n",
       "      <td>35</td>\n",
       "    </tr>\n",
       "    <tr>\n",
       "      <th>1</th>\n",
       "      <td>00001.ppm</td>\n",
       "      <td>2</td>\n",
       "      <td>1003.5</td>\n",
       "      <td>410.0</td>\n",
       "      <td>41</td>\n",
       "      <td>44</td>\n",
       "    </tr>\n",
       "    <tr>\n",
       "      <th>2</th>\n",
       "      <td>00001.ppm</td>\n",
       "      <td>2</td>\n",
       "      <td>414.0</td>\n",
       "      <td>523.0</td>\n",
       "      <td>56</td>\n",
       "      <td>58</td>\n",
       "    </tr>\n",
       "    <tr>\n",
       "      <th>3</th>\n",
       "      <td>00001.ppm</td>\n",
       "      <td>3</td>\n",
       "      <td>1002.0</td>\n",
       "      <td>362.5</td>\n",
       "      <td>58</td>\n",
       "      <td>55</td>\n",
       "    </tr>\n",
       "    <tr>\n",
       "      <th>4</th>\n",
       "      <td>00002.ppm</td>\n",
       "      <td>2</td>\n",
       "      <td>949.0</td>\n",
       "      <td>534.0</td>\n",
       "      <td>114</td>\n",
       "      <td>116</td>\n",
       "    </tr>\n",
       "  </tbody>\n",
       "</table>\n",
       "</div>"
      ],
      "text/plain": [
       "     ImageID CategoryID  center x  center y  width  height\n",
       "0  00000.ppm          1     794.5     428.5     41      35\n",
       "1  00001.ppm          2    1003.5     410.0     41      44\n",
       "2  00001.ppm          2     414.0     523.0     56      58\n",
       "3  00001.ppm          3    1002.0     362.5     58      55\n",
       "4  00002.ppm          2     949.0     534.0    114     116"
      ]
     },
     "execution_count": 62,
     "metadata": {},
     "output_type": "execute_result"
    }
   ],
   "source": [
    "r.head()"
   ]
  },
  {
   "cell_type": "markdown",
   "id": "aggressive-figure",
   "metadata": {},
   "source": [
    "#### Normalizing the center,width and height in the yolo format\n",
    "#### Saving the images in jpg format"
   ]
  },
  {
   "cell_type": "code",
   "execution_count": 33,
   "id": "lined-passage",
   "metadata": {},
   "outputs": [
    {
     "data": {
      "text/plain": [
       "'C:\\\\Users\\\\GAURAV\\\\Desktop\\\\maindata'"
      ]
     },
     "execution_count": 33,
     "metadata": {},
     "output_type": "execute_result"
    }
   ],
   "source": [
    "# Changing the current working directory where the images are located\n",
    "os.chdir(path)\n",
    "os.getcwd()"
   ]
  },
  {
   "cell_type": "code",
   "execution_count": null,
   "id": "clear-broadway",
   "metadata": {},
   "outputs": [],
   "source": [
    "# Don't run\n",
    "for x in os.listdir(path):\n",
    "    if(x.endswith(\".ppm\")):\n",
    "        ppmimg=cv.imread(x)\n",
    "        \n",
    "        # Getting the image width and height\n",
    "        h,w=ppmimg.shape[:2]\n",
    "        # Getting the image name without extension\n",
    "        imgname=x[:-4]\n",
    "        # Creating the dataframe that has only matching row with file name\n",
    "        newdf=r.loc[r['ImageID']==x].copy()\n",
    "        \n",
    "        # Normalizing the data into yolo format\n",
    "        newdf['center x']=newdf['center x']/w\n",
    "        newdf['center y']=newdf['center y']/h\n",
    "        newdf['width']=newdf['width']/w\n",
    "        newdf['height']=newdf['height']/h\n",
    "        \n",
    "        # Creating the final dataframe having required columns\n",
    "        \n",
    "        result= newdf.loc[:,['CategoryID','center x','center y','width','height']].copy()\n",
    "        \n",
    "        # Checking the annotations for the current image and if annotations not found then skip the current image\n",
    "        if result.isnull().values.all():\n",
    "            continue\n",
    "        \n",
    "        # setting the path for saving txt file\n",
    "        newpath=\"C:/Users/GAURAV/Desktop/finaldata\"\n",
    "        path_to_save=newpath+'/'+imgname+'.txt'\n",
    "        \n",
    "        # Saving the dataframe into txt file\n",
    "        result.to_csv(path_to_save,header=False,index=False,sep=' ')\n",
    "        \n",
    "        # setting the path for saving the jpg image\n",
    "        path_to_save=newpath+'/'+imgname+'.jpg'\n",
    "        \n",
    "        # Saving the image at same location where txt file is stored using opencv in jpg format\n",
    "        cv.imwrite(path_to_save,ppmimg)        "
   ]
  },
  {
   "cell_type": "markdown",
   "id": "sorted-south",
   "metadata": {},
   "source": [
    "## Creating files required for training on darknet"
   ]
  },
  {
   "cell_type": "code",
   "execution_count": 34,
   "id": "combined-inflation",
   "metadata": {},
   "outputs": [],
   "source": [
    "path=r\"\\finaldata\""
   ]
  },
  {
   "cell_type": "code",
   "execution_count": 37,
   "id": "competent-blend",
   "metadata": {},
   "outputs": [],
   "source": [
    "# Using list we will store the path of each image\n",
    "lst=[]\n",
    "for img in os.listdir(path):\n",
    "    if img.endswith(\".jpg\"):\n",
    "        imgpath=os.path.join(path,img)\n",
    "        # During writing to the file it will move the control to the next line\n",
    "        lst.append(imgpath+'\\n')"
   ]
  },
  {
   "cell_type": "code",
   "execution_count": 36,
   "id": "precise-office",
   "metadata": {},
   "outputs": [],
   "source": [
    "# Splitting the train and test data\n",
    "test=lst[:int(len(lst)*0.15)]\n",
    "train=lst[int(len(lst)*0.15):]"
   ]
  },
  {
   "cell_type": "code",
   "execution_count": null,
   "id": "australian-threshold",
   "metadata": {},
   "outputs": [],
   "source": [
    "# Creating the train.txt file\n",
    "# It will have writing 85% of lines in it\n",
    "with open(os.path.join(path,'train.txt'),'w') as train_txt:\n",
    "    for e in train:\n",
    "        train_txt.write(e)"
   ]
  },
  {
   "cell_type": "code",
   "execution_count": null,
   "id": "efficient-recommendation",
   "metadata": {},
   "outputs": [],
   "source": [
    "# Creating the test.txt file\n",
    "# It will have writing 15% of lines in it\n",
    "with open(os.path.join(path,'test.txt'),'w') as test_txt:\n",
    "    for e in test:\n",
    "        test_txt.write(e)"
   ]
  },
  {
   "cell_type": "code",
   "execution_count": null,
   "id": "experimental-garbage",
   "metadata": {},
   "outputs": [],
   "source": [
    "# Setting counter for counting number of classes\n",
    "c=0\n",
    "with open(path+'/'+'classes.names','w') as names,open(path+'/'+'classes.txt','r') as txt:\n",
    "    for line in txt:\n",
    "        names.write(line)\n",
    "        c+=1"
   ]
  },
  {
   "cell_type": "code",
   "execution_count": null,
   "id": "hourly-horse",
   "metadata": {},
   "outputs": [],
   "source": [
    "with open(path+'/'+'ts_data.data','w') as data:\n",
    "    data.write('classes ='+str(c)+'\\n')\n",
    "    \n",
    "    # Location of the train.txt file\n",
    "    data.write('train='+ os.path.join(path,'train.txt') + '\\n')\n",
    "\n",
    "    # Location of the test.txt file\n",
    "    data.write('valid='+ os.path.join(path,'test.txt') + '\\n')\n",
    "\n",
    "    # Location of the classes.names file\n",
    "    data.write('names='+ os.path.join(path,'classes.names')+ '\\n')\n",
    "\n",
    "    # Location for saving weights file\n",
    "    data.write('backup=backup')"
   ]
  },
  {
   "cell_type": "markdown",
   "id": "protective-cooler",
   "metadata": {},
   "source": [
    "### Training the model using darknet"
   ]
  },
  {
   "cell_type": "markdown",
   "id": "coordinated-stand",
   "metadata": {},
   "source": [
    "### 1.On Google colab "
   ]
  },
  {
   "cell_type": "markdown",
   "id": "eight-caution",
   "metadata": {},
   "source": [
    "<img src=\"images/b.png\" width=\"600\" height=\"400\">\n",
    "<img src=\"images/c.png\" width=\"600\" height=\"400\">\n",
    "<img src=\"images/d.png\" width=\"600\" height=\"400\">\n",
    "<img src=\"images/e.png\" width=\"600\" height=\"400\">"
   ]
  },
  {
   "cell_type": "markdown",
   "id": "employed-conjunction",
   "metadata": {},
   "source": [
    "## Testing the model using Open CV"
   ]
  },
  {
   "cell_type": "code",
   "execution_count": 2,
   "id": "million-supply",
   "metadata": {},
   "outputs": [],
   "source": [
    "# creating network containing trained weights and configuration file( Loading yolo network)\n",
    "net=cv.dnn.readNet('yolov3_custom_last.weights','yolov3_customtest.cfg')"
   ]
  },
  {
   "cell_type": "code",
   "execution_count": 3,
   "id": "interesting-toronto",
   "metadata": {},
   "outputs": [
    {
     "data": {
      "text/plain": [
       "['prohibitory', 'danger', 'mandatory', 'other']"
      ]
     },
     "execution_count": 3,
     "metadata": {},
     "output_type": "execute_result"
    }
   ],
   "source": [
    "classes=[]\n",
    "with open('classes.names','r') as f:\n",
    "    classes=f.read().splitlines()\n",
    "classes"
   ]
  },
  {
   "cell_type": "code",
   "execution_count": 4,
   "id": "devoted-walker",
   "metadata": {},
   "outputs": [],
   "source": [
    "images_path=glob.glob(r\"full_path/*.jpg\")"
   ]
  },
  {
   "cell_type": "code",
   "execution_count": 5,
   "id": "together-sheffield",
   "metadata": {},
   "outputs": [
    {
     "data": {
      "text/plain": [
       "['yolo_82', 'yolo_94', 'yolo_106']"
      ]
     },
     "execution_count": 5,
     "metadata": {},
     "output_type": "execute_result"
    }
   ],
   "source": [
    "# Getting output layers names\n",
    "output_layers_names=net.getUnconnectedOutLayersNames()\n",
    "output_layers_names"
   ]
  },
  {
   "cell_type": "code",
   "execution_count": 9,
   "id": "upper-belize",
   "metadata": {},
   "outputs": [],
   "source": [
    "# For images\n",
    "for imgpath in images_path:\n",
    "    img=cv.imread(imgpath)\n",
    "    img=cv.resize(img,(1000,600),cv.INTER_AREA)\n",
    "    height,width,_=img.shape\n",
    "\n",
    "    # Creating input blob for network\n",
    "    # img,normalization,size\n",
    "    # Binary large object\n",
    "    # preprocessing the image \n",
    "    blob = cv.dnn.blobFromImage(img,1/255.0,(416,416),swapRB=True,crop=False)\n",
    "    # Setting blob as input to the network\n",
    "    net.setInput(blob)\n",
    "    # Runs a forward pass to compute the net output\n",
    "    layers_output=net.forward(output_layers_names)\n",
    "    \n",
    "    # Visualizing the result\n",
    "    class_ids = []\n",
    "    confidences = []\n",
    "    boxes = []\n",
    "    # Extracting information from layers output\n",
    "    for out in layers_output:\n",
    "        # Extracting information from each output\n",
    "        for detection in out:\n",
    "            # Each detection will consist of 4 box coordinates,p(o),probability of 4 classes\n",
    "            # Storing classes predictions\n",
    "            scores=detection[5:]\n",
    "            # Getting index of the class with the maximum value of probability\n",
    "            class_id = np.argmax(scores)\n",
    "            confidence = scores[class_id]\n",
    "            if confidence>0.5:\n",
    "                center_x=int(detection[0]*width)\n",
    "                center_y=int(detection[1]*height)\n",
    "                w=int(detection[2]*width)\n",
    "                h=int(detection[3]*height)\n",
    "                \n",
    "                # Rectangle coordinates\n",
    "                # Upper left coordinates\n",
    "                x=int(center_x-w/2)\n",
    "                y=int(center_y-h/2)\n",
    "\n",
    "                boxes.append([x, y, w, h])\n",
    "                confidences.append(float(confidence))\n",
    "                class_ids.append(class_id)\n",
    "    font=cv.FONT_HERSHEY_PLAIN\n",
    "\n",
    "    indexes=cv.dnn.NMSBoxes(boxes,confidences,0.5,0.4)\n",
    "    for i in range(len(boxes)):\n",
    "        if i in indexes:\n",
    "            x, y, w, h = boxes[i]\n",
    "            label=str(classes[class_ids[i]])\n",
    "            confidence=str(round(confidences[i],2))\n",
    "            cv.rectangle(img,(x,y),(x+w,y+h),(0,255,255),2)\n",
    "            cv.putText(img,label+\" \"+confidence,(x-2,y-5),font,1,(51,51,255),2)\n",
    "    cv.imshow('img',img)\n",
    "    cv.waitKey(0)\n",
    "    \n",
    "cv.destroyAllWindows()"
   ]
  },
  {
   "cell_type": "code",
   "execution_count": 8,
   "id": "polyphonic-archive",
   "metadata": {},
   "outputs": [],
   "source": [
    "# for video and camera\n",
    "\n",
    "cap=cv.VideoCapture(\"full_path/testvideo.mp4\")\n",
    "while True:\n",
    "    _,img = cap.read()\n",
    "    img=cv.resize(img,(1000,600),cv.INTER_AREA)\n",
    "    height,width,_=img.shape\n",
    "    \n",
    "    # Creating input blob for network\n",
    "    # img,normalization,size\n",
    "    blob = cv.dnn.blobFromImage(img,1/255.0,(416,416),swapRB=True,crop=False)\n",
    "    # Setting blob as input to the network\n",
    "    net.setInput(blob)\n",
    "    #  Runs a forward pass to compute the net output\n",
    "    layers_output=net.forward(output_layers_names)\n",
    "    \n",
    "    # Visualizing the result\n",
    "    class_ids = []\n",
    "    confidences = []\n",
    "    boxes = []\n",
    "    # Extracting information from layers output\n",
    "    for out in layers_output:\n",
    "        # Extracting information from each output\n",
    "        for detection in out:\n",
    "            # Each detection will consist of 4 box coordinates,p(o),probability of 4 classes\n",
    "            # Storing classes predictions\n",
    "            scores=detection[5:]\n",
    "            # Getting index of the class with the maximum value of probability\n",
    "            class_id = np.argmax(scores)\n",
    "            confidence = scores[class_id]\n",
    "            if confidence>0.5:\n",
    "                center_x=int(detection[0]*width)\n",
    "                center_y=int(detection[1]*height)\n",
    "                w=int(detection[2]*width)\n",
    "                h=int(detection[3]*height)\n",
    "                \n",
    "                # Rectangle coordinates\n",
    "                # Upper left coordinates\n",
    "                x=int(center_x-w/2)\n",
    "                y=int(center_y-h/2)\n",
    "\n",
    "                boxes.append([x, y, w, h])\n",
    "                confidences.append(float(confidence))\n",
    "                class_ids.append(class_id)\n",
    "    font=cv.FONT_HERSHEY_PLAIN\n",
    "    # With non-max supression\n",
    "    indexes=cv.dnn.NMSBoxes(boxes,confidences,0.5,0.4)\n",
    "    for i in range(len(boxes)):\n",
    "        if i in indexes:\n",
    "            x, y, w, h = boxes[i]\n",
    "            label=str(classes[class_ids[i]])\n",
    "            confidence=str(round(confidences[i],2))\n",
    "            cv.rectangle(img,(x,y),(x+w,y+h),(0,255,255),2)\n",
    "            cv.putText(img,label+\" \"+confidence,(x-2,y-5),font,1,(51,51,255),2)\n",
    "    cv.imshow('img',img)\n",
    "    key=cv.waitKey(1)\n",
    "    if key==ord('q'):\n",
    "        break\n",
    "\n",
    "cap.release()\n",
    "cv.destroyAllWindows()"
   ]
  }
 ],
 "metadata": {
  "kernelspec": {
   "display_name": "Python 3",
   "language": "python",
   "name": "python3"
  },
  "language_info": {
   "codemirror_mode": {
    "name": "ipython",
    "version": 3
   },
   "file_extension": ".py",
   "mimetype": "text/x-python",
   "name": "python",
   "nbconvert_exporter": "python",
   "pygments_lexer": "ipython3",
   "version": "3.7.8"
  }
 },
 "nbformat": 4,
 "nbformat_minor": 5
}